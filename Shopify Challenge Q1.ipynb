{
 "cells": [
  {
   "cell_type": "markdown",
   "id": "c1f0edac",
   "metadata": {},
   "source": [
    "# Shopify Fall 2022 Data Science Intern Challenge Q1"
   ]
  },
  {
   "cell_type": "markdown",
   "id": "ea8f9f18",
   "metadata": {},
   "source": [
    "## Import data & library "
   ]
  },
  {
   "cell_type": "code",
   "execution_count": 1,
   "id": "58ed96d2",
   "metadata": {
    "scrolled": true
   },
   "outputs": [
    {
     "name": "stdout",
     "output_type": "stream",
     "text": [
      "C:\\Users\\ERIC\\2022\n",
      "Setup complete.\n"
     ]
    }
   ],
   "source": [
    "import pandas as pd\n",
    "import os\n",
    "os.chdir(\"/Users/ERIC/2022\")\n",
    "print(os.getcwd())\n",
    "print(\"Setup complete.\")"
   ]
  },
  {
   "cell_type": "code",
   "execution_count": 2,
   "id": "d624d53f",
   "metadata": {
    "scrolled": true
   },
   "outputs": [
    {
     "data": {
      "text/html": [
       "<div>\n",
       "<style scoped>\n",
       "    .dataframe tbody tr th:only-of-type {\n",
       "        vertical-align: middle;\n",
       "    }\n",
       "\n",
       "    .dataframe tbody tr th {\n",
       "        vertical-align: top;\n",
       "    }\n",
       "\n",
       "    .dataframe thead th {\n",
       "        text-align: right;\n",
       "    }\n",
       "</style>\n",
       "<table border=\"1\" class=\"dataframe\">\n",
       "  <thead>\n",
       "    <tr style=\"text-align: right;\">\n",
       "      <th></th>\n",
       "      <th>shop_id</th>\n",
       "      <th>user_id</th>\n",
       "      <th>order_amount</th>\n",
       "      <th>total_items</th>\n",
       "      <th>payment_method</th>\n",
       "      <th>created_at</th>\n",
       "    </tr>\n",
       "    <tr>\n",
       "      <th>order_id</th>\n",
       "      <th></th>\n",
       "      <th></th>\n",
       "      <th></th>\n",
       "      <th></th>\n",
       "      <th></th>\n",
       "      <th></th>\n",
       "    </tr>\n",
       "  </thead>\n",
       "  <tbody>\n",
       "    <tr>\n",
       "      <th>1</th>\n",
       "      <td>53</td>\n",
       "      <td>746</td>\n",
       "      <td>224</td>\n",
       "      <td>2</td>\n",
       "      <td>cash</td>\n",
       "      <td>2017-03-13 12:36:56</td>\n",
       "    </tr>\n",
       "    <tr>\n",
       "      <th>2</th>\n",
       "      <td>92</td>\n",
       "      <td>925</td>\n",
       "      <td>90</td>\n",
       "      <td>1</td>\n",
       "      <td>cash</td>\n",
       "      <td>2017-03-03 17:38:52</td>\n",
       "    </tr>\n",
       "    <tr>\n",
       "      <th>3</th>\n",
       "      <td>44</td>\n",
       "      <td>861</td>\n",
       "      <td>144</td>\n",
       "      <td>1</td>\n",
       "      <td>cash</td>\n",
       "      <td>2017-03-14 4:23:56</td>\n",
       "    </tr>\n",
       "    <tr>\n",
       "      <th>4</th>\n",
       "      <td>18</td>\n",
       "      <td>935</td>\n",
       "      <td>156</td>\n",
       "      <td>1</td>\n",
       "      <td>credit_card</td>\n",
       "      <td>2017-03-26 12:43:37</td>\n",
       "    </tr>\n",
       "    <tr>\n",
       "      <th>5</th>\n",
       "      <td>18</td>\n",
       "      <td>883</td>\n",
       "      <td>156</td>\n",
       "      <td>1</td>\n",
       "      <td>credit_card</td>\n",
       "      <td>2017-03-01 4:35:11</td>\n",
       "    </tr>\n",
       "    <tr>\n",
       "      <th>...</th>\n",
       "      <td>...</td>\n",
       "      <td>...</td>\n",
       "      <td>...</td>\n",
       "      <td>...</td>\n",
       "      <td>...</td>\n",
       "      <td>...</td>\n",
       "    </tr>\n",
       "    <tr>\n",
       "      <th>4996</th>\n",
       "      <td>73</td>\n",
       "      <td>993</td>\n",
       "      <td>330</td>\n",
       "      <td>2</td>\n",
       "      <td>debit</td>\n",
       "      <td>2017-03-30 13:47:17</td>\n",
       "    </tr>\n",
       "    <tr>\n",
       "      <th>4997</th>\n",
       "      <td>48</td>\n",
       "      <td>789</td>\n",
       "      <td>234</td>\n",
       "      <td>2</td>\n",
       "      <td>cash</td>\n",
       "      <td>2017-03-16 20:36:16</td>\n",
       "    </tr>\n",
       "    <tr>\n",
       "      <th>4998</th>\n",
       "      <td>56</td>\n",
       "      <td>867</td>\n",
       "      <td>351</td>\n",
       "      <td>3</td>\n",
       "      <td>cash</td>\n",
       "      <td>2017-03-19 5:42:42</td>\n",
       "    </tr>\n",
       "    <tr>\n",
       "      <th>4999</th>\n",
       "      <td>60</td>\n",
       "      <td>825</td>\n",
       "      <td>354</td>\n",
       "      <td>2</td>\n",
       "      <td>credit_card</td>\n",
       "      <td>2017-03-16 14:51:18</td>\n",
       "    </tr>\n",
       "    <tr>\n",
       "      <th>5000</th>\n",
       "      <td>44</td>\n",
       "      <td>734</td>\n",
       "      <td>288</td>\n",
       "      <td>2</td>\n",
       "      <td>debit</td>\n",
       "      <td>2017-03-18 15:48:18</td>\n",
       "    </tr>\n",
       "  </tbody>\n",
       "</table>\n",
       "<p>5000 rows × 6 columns</p>\n",
       "</div>"
      ],
      "text/plain": [
       "          shop_id  user_id  order_amount  total_items payment_method  \\\n",
       "order_id                                                               \n",
       "1              53      746           224            2           cash   \n",
       "2              92      925            90            1           cash   \n",
       "3              44      861           144            1           cash   \n",
       "4              18      935           156            1    credit_card   \n",
       "5              18      883           156            1    credit_card   \n",
       "...           ...      ...           ...          ...            ...   \n",
       "4996           73      993           330            2          debit   \n",
       "4997           48      789           234            2           cash   \n",
       "4998           56      867           351            3           cash   \n",
       "4999           60      825           354            2    credit_card   \n",
       "5000           44      734           288            2          debit   \n",
       "\n",
       "                   created_at  \n",
       "order_id                       \n",
       "1         2017-03-13 12:36:56  \n",
       "2         2017-03-03 17:38:52  \n",
       "3          2017-03-14 4:23:56  \n",
       "4         2017-03-26 12:43:37  \n",
       "5          2017-03-01 4:35:11  \n",
       "...                       ...  \n",
       "4996      2017-03-30 13:47:17  \n",
       "4997      2017-03-16 20:36:16  \n",
       "4998       2017-03-19 5:42:42  \n",
       "4999      2017-03-16 14:51:18  \n",
       "5000      2017-03-18 15:48:18  \n",
       "\n",
       "[5000 rows x 6 columns]"
      ]
     },
     "execution_count": 2,
     "metadata": {},
     "output_type": "execute_result"
    }
   ],
   "source": [
    "shopify_data = pd.read_csv(\"2019 Winter Data Science Intern Challenge Data Set - Sheet1.csv\", index_col=0)\n",
    "shopify_data"
   ]
  },
  {
   "cell_type": "markdown",
   "id": "d3cc9e97",
   "metadata": {},
   "source": [
    "### a) Think about what could be going wrong with our calculation. Think about a better way to evaluate this data."
   ]
  },
  {
   "cell_type": "markdown",
   "id": "880c1596",
   "metadata": {},
   "source": [
    "#### First, I want to filter the data set into variables/columns that I am interested in. From there, I perform data analysis by using the describe() function to see the statistics of variables \"order_amount\" and \"total_items\""
   ]
  },
  {
   "cell_type": "code",
   "execution_count": 3,
   "id": "cfd8bb70",
   "metadata": {},
   "outputs": [
    {
     "data": {
      "text/html": [
       "<div>\n",
       "<style scoped>\n",
       "    .dataframe tbody tr th:only-of-type {\n",
       "        vertical-align: middle;\n",
       "    }\n",
       "\n",
       "    .dataframe tbody tr th {\n",
       "        vertical-align: top;\n",
       "    }\n",
       "\n",
       "    .dataframe thead th {\n",
       "        text-align: right;\n",
       "    }\n",
       "</style>\n",
       "<table border=\"1\" class=\"dataframe\">\n",
       "  <thead>\n",
       "    <tr style=\"text-align: right;\">\n",
       "      <th></th>\n",
       "      <th>shop_id</th>\n",
       "      <th>order_amount</th>\n",
       "      <th>total_items</th>\n",
       "    </tr>\n",
       "    <tr>\n",
       "      <th>order_id</th>\n",
       "      <th></th>\n",
       "      <th></th>\n",
       "      <th></th>\n",
       "    </tr>\n",
       "  </thead>\n",
       "  <tbody>\n",
       "    <tr>\n",
       "      <th>1</th>\n",
       "      <td>53</td>\n",
       "      <td>224</td>\n",
       "      <td>2</td>\n",
       "    </tr>\n",
       "    <tr>\n",
       "      <th>2</th>\n",
       "      <td>92</td>\n",
       "      <td>90</td>\n",
       "      <td>1</td>\n",
       "    </tr>\n",
       "    <tr>\n",
       "      <th>3</th>\n",
       "      <td>44</td>\n",
       "      <td>144</td>\n",
       "      <td>1</td>\n",
       "    </tr>\n",
       "    <tr>\n",
       "      <th>4</th>\n",
       "      <td>18</td>\n",
       "      <td>156</td>\n",
       "      <td>1</td>\n",
       "    </tr>\n",
       "    <tr>\n",
       "      <th>5</th>\n",
       "      <td>18</td>\n",
       "      <td>156</td>\n",
       "      <td>1</td>\n",
       "    </tr>\n",
       "    <tr>\n",
       "      <th>...</th>\n",
       "      <td>...</td>\n",
       "      <td>...</td>\n",
       "      <td>...</td>\n",
       "    </tr>\n",
       "    <tr>\n",
       "      <th>4996</th>\n",
       "      <td>73</td>\n",
       "      <td>330</td>\n",
       "      <td>2</td>\n",
       "    </tr>\n",
       "    <tr>\n",
       "      <th>4997</th>\n",
       "      <td>48</td>\n",
       "      <td>234</td>\n",
       "      <td>2</td>\n",
       "    </tr>\n",
       "    <tr>\n",
       "      <th>4998</th>\n",
       "      <td>56</td>\n",
       "      <td>351</td>\n",
       "      <td>3</td>\n",
       "    </tr>\n",
       "    <tr>\n",
       "      <th>4999</th>\n",
       "      <td>60</td>\n",
       "      <td>354</td>\n",
       "      <td>2</td>\n",
       "    </tr>\n",
       "    <tr>\n",
       "      <th>5000</th>\n",
       "      <td>44</td>\n",
       "      <td>288</td>\n",
       "      <td>2</td>\n",
       "    </tr>\n",
       "  </tbody>\n",
       "</table>\n",
       "<p>5000 rows × 3 columns</p>\n",
       "</div>"
      ],
      "text/plain": [
       "          shop_id  order_amount  total_items\n",
       "order_id                                    \n",
       "1              53           224            2\n",
       "2              92            90            1\n",
       "3              44           144            1\n",
       "4              18           156            1\n",
       "5              18           156            1\n",
       "...           ...           ...          ...\n",
       "4996           73           330            2\n",
       "4997           48           234            2\n",
       "4998           56           351            3\n",
       "4999           60           354            2\n",
       "5000           44           288            2\n",
       "\n",
       "[5000 rows x 3 columns]"
      ]
     },
     "execution_count": 3,
     "metadata": {},
     "output_type": "execute_result"
    }
   ],
   "source": [
    "data = shopify_data.loc[:, ['shop_id', 'order_amount', 'total_items']]\n",
    "data"
   ]
  },
  {
   "cell_type": "markdown",
   "id": "dcd23473",
   "metadata": {},
   "source": [
    "#### Check that there are no missing values in our data set"
   ]
  },
  {
   "cell_type": "code",
   "execution_count": 4,
   "id": "e3f9ad1a",
   "metadata": {},
   "outputs": [
    {
     "data": {
      "text/plain": [
       "shop_id         0\n",
       "order_amount    0\n",
       "total_items     0\n",
       "dtype: int64"
      ]
     },
     "execution_count": 4,
     "metadata": {},
     "output_type": "execute_result"
    }
   ],
   "source": [
    "data.isna().sum()"
   ]
  },
  {
   "cell_type": "markdown",
   "id": "a6ac7651",
   "metadata": {},
   "source": [
    "#### Statistical analysis on our dataset"
   ]
  },
  {
   "cell_type": "code",
   "execution_count": 5,
   "id": "ee168a67",
   "metadata": {},
   "outputs": [
    {
     "data": {
      "text/html": [
       "<div>\n",
       "<style scoped>\n",
       "    .dataframe tbody tr th:only-of-type {\n",
       "        vertical-align: middle;\n",
       "    }\n",
       "\n",
       "    .dataframe tbody tr th {\n",
       "        vertical-align: top;\n",
       "    }\n",
       "\n",
       "    .dataframe thead th {\n",
       "        text-align: right;\n",
       "    }\n",
       "</style>\n",
       "<table border=\"1\" class=\"dataframe\">\n",
       "  <thead>\n",
       "    <tr style=\"text-align: right;\">\n",
       "      <th></th>\n",
       "      <th>order_amount</th>\n",
       "      <th>total_items</th>\n",
       "    </tr>\n",
       "  </thead>\n",
       "  <tbody>\n",
       "    <tr>\n",
       "      <th>count</th>\n",
       "      <td>5000.000000</td>\n",
       "      <td>5000.00000</td>\n",
       "    </tr>\n",
       "    <tr>\n",
       "      <th>mean</th>\n",
       "      <td>3145.128000</td>\n",
       "      <td>8.78720</td>\n",
       "    </tr>\n",
       "    <tr>\n",
       "      <th>std</th>\n",
       "      <td>41282.539349</td>\n",
       "      <td>116.32032</td>\n",
       "    </tr>\n",
       "    <tr>\n",
       "      <th>min</th>\n",
       "      <td>90.000000</td>\n",
       "      <td>1.00000</td>\n",
       "    </tr>\n",
       "    <tr>\n",
       "      <th>25%</th>\n",
       "      <td>163.000000</td>\n",
       "      <td>1.00000</td>\n",
       "    </tr>\n",
       "    <tr>\n",
       "      <th>50%</th>\n",
       "      <td>284.000000</td>\n",
       "      <td>2.00000</td>\n",
       "    </tr>\n",
       "    <tr>\n",
       "      <th>75%</th>\n",
       "      <td>390.000000</td>\n",
       "      <td>3.00000</td>\n",
       "    </tr>\n",
       "    <tr>\n",
       "      <th>max</th>\n",
       "      <td>704000.000000</td>\n",
       "      <td>2000.00000</td>\n",
       "    </tr>\n",
       "  </tbody>\n",
       "</table>\n",
       "</div>"
      ],
      "text/plain": [
       "        order_amount  total_items\n",
       "count    5000.000000   5000.00000\n",
       "mean     3145.128000      8.78720\n",
       "std     41282.539349    116.32032\n",
       "min        90.000000      1.00000\n",
       "25%       163.000000      1.00000\n",
       "50%       284.000000      2.00000\n",
       "75%       390.000000      3.00000\n",
       "max    704000.000000   2000.00000"
      ]
     },
     "execution_count": 5,
     "metadata": {},
     "output_type": "execute_result"
    }
   ],
   "source": [
    "data[['order_amount','total_items']].describe()"
   ]
  },
  {
   "cell_type": "markdown",
   "id": "019f23a6",
   "metadata": {},
   "source": [
    "#### From the table, we gain some important knowledge about the dataset: \n",
    "#### 1) The average order_amount is 3145.128, which was mentioned in the question as the AOV.\n",
    "#### 2) The average total_items is 8.7872.\n",
    "#### 3) The minimum total_items is 1, and maximum total_items is 2,000.\n",
    "#### 4) The minimum order_amount is 90, and maximum order_amount is 704,000.\n",
    "* The range between these two value suggest that there may exist potential outliers in the dataset. "
   ]
  },
  {
   "cell_type": "markdown",
   "id": "45516b95",
   "metadata": {},
   "source": [
    "#### There may exist potential outliers from the statistics above. Using the groupby() and sort functions to find the average order amount per store, along with the total items sold (Arranged in descending order)."
   ]
  },
  {
   "cell_type": "code",
   "execution_count": 6,
   "id": "af8d5003",
   "metadata": {},
   "outputs": [
    {
     "data": {
      "text/html": [
       "<div>\n",
       "<style scoped>\n",
       "    .dataframe tbody tr th:only-of-type {\n",
       "        vertical-align: middle;\n",
       "    }\n",
       "\n",
       "    .dataframe tbody tr th {\n",
       "        vertical-align: top;\n",
       "    }\n",
       "\n",
       "    .dataframe thead th {\n",
       "        text-align: right;\n",
       "    }\n",
       "</style>\n",
       "<table border=\"1\" class=\"dataframe\">\n",
       "  <thead>\n",
       "    <tr style=\"text-align: right;\">\n",
       "      <th></th>\n",
       "      <th>order_amount</th>\n",
       "      <th>total_items</th>\n",
       "    </tr>\n",
       "    <tr>\n",
       "      <th>shop_id</th>\n",
       "      <th></th>\n",
       "      <th></th>\n",
       "    </tr>\n",
       "  </thead>\n",
       "  <tbody>\n",
       "    <tr>\n",
       "      <th>42</th>\n",
       "      <td>235101.490196</td>\n",
       "      <td>667.901961</td>\n",
       "    </tr>\n",
       "    <tr>\n",
       "      <th>78</th>\n",
       "      <td>49213.043478</td>\n",
       "      <td>1.913043</td>\n",
       "    </tr>\n",
       "    <tr>\n",
       "      <th>50</th>\n",
       "      <td>403.545455</td>\n",
       "      <td>2.090909</td>\n",
       "    </tr>\n",
       "    <tr>\n",
       "      <th>90</th>\n",
       "      <td>403.224490</td>\n",
       "      <td>2.265306</td>\n",
       "    </tr>\n",
       "    <tr>\n",
       "      <th>38</th>\n",
       "      <td>390.857143</td>\n",
       "      <td>2.057143</td>\n",
       "    </tr>\n",
       "    <tr>\n",
       "      <th>...</th>\n",
       "      <td>...</td>\n",
       "      <td>...</td>\n",
       "    </tr>\n",
       "    <tr>\n",
       "      <th>53</th>\n",
       "      <td>214.117647</td>\n",
       "      <td>1.911765</td>\n",
       "    </tr>\n",
       "    <tr>\n",
       "      <th>100</th>\n",
       "      <td>213.675000</td>\n",
       "      <td>1.925000</td>\n",
       "    </tr>\n",
       "    <tr>\n",
       "      <th>32</th>\n",
       "      <td>189.976190</td>\n",
       "      <td>1.880952</td>\n",
       "    </tr>\n",
       "    <tr>\n",
       "      <th>2</th>\n",
       "      <td>174.327273</td>\n",
       "      <td>1.854545</td>\n",
       "    </tr>\n",
       "    <tr>\n",
       "      <th>92</th>\n",
       "      <td>162.857143</td>\n",
       "      <td>1.809524</td>\n",
       "    </tr>\n",
       "  </tbody>\n",
       "</table>\n",
       "<p>100 rows × 2 columns</p>\n",
       "</div>"
      ],
      "text/plain": [
       "          order_amount  total_items\n",
       "shop_id                            \n",
       "42       235101.490196   667.901961\n",
       "78        49213.043478     1.913043\n",
       "50          403.545455     2.090909\n",
       "90          403.224490     2.265306\n",
       "38          390.857143     2.057143\n",
       "...                ...          ...\n",
       "53          214.117647     1.911765\n",
       "100         213.675000     1.925000\n",
       "32          189.976190     1.880952\n",
       "2           174.327273     1.854545\n",
       "92          162.857143     1.809524\n",
       "\n",
       "[100 rows x 2 columns]"
      ]
     },
     "execution_count": 6,
     "metadata": {},
     "output_type": "execute_result"
    }
   ],
   "source": [
    "data_shop = data.groupby(['shop_id'])[['order_amount', 'total_items']].mean()\n",
    "data_shop_arranged = data_shop.sort_values(by='order_amount', ascending = False)\n",
    "data_shop_arranged"
   ]
  },
  {
   "cell_type": "markdown",
   "id": "59ff9311",
   "metadata": {},
   "source": [
    "#### From the table above, we can see that most shops are normal except for shop 42 and shop 78. "
   ]
  },
  {
   "cell_type": "markdown",
   "id": "a28c966c",
   "metadata": {},
   "source": [
    "#### To check the average shoe price for shop 42 by taking its order amount and divide it by its total items amount"
   ]
  },
  {
   "cell_type": "code",
   "execution_count": 7,
   "id": "4a6ac3d4",
   "metadata": {},
   "outputs": [
    {
     "name": "stdout",
     "output_type": "stream",
     "text": [
      "The average price per shoe for shop 42 is: $ 352.0\n"
     ]
    }
   ],
   "source": [
    "shop_42 = data_shop_arranged.iloc[0]\n",
    "shop_42_average = shop_42.order_amount/shop_42.total_items\n",
    "print(\"The average price per shoe for shop 42 is: $\", shop_42_average)"
   ]
  },
  {
   "cell_type": "markdown",
   "id": "a98008c7",
   "metadata": {},
   "source": [
    "#### The average price per shoe in shop 42 is $352, which is acceptable assuming the shoe is unique and rare."
   ]
  },
  {
   "cell_type": "markdown",
   "id": "32b073a7",
   "metadata": {},
   "source": [
    "#### To check the average shoe price for shop 78 by taking its order amount and divide it by its total items amount"
   ]
  },
  {
   "cell_type": "code",
   "execution_count": 8,
   "id": "f0604b5b",
   "metadata": {},
   "outputs": [
    {
     "name": "stdout",
     "output_type": "stream",
     "text": [
      "The average price per shoe for shop 78 is: $ 25725.0\n"
     ]
    }
   ],
   "source": [
    "shop_78 = data_shop_arranged.iloc[1]\n",
    "shop_78_average = shop_78.order_amount/shop_78.total_items\n",
    "print(\"The average price per shoe for shop 78 is: $\", shop_78_average)"
   ]
  },
  {
   "cell_type": "markdown",
   "id": "ad4a66d3",
   "metadata": {},
   "source": [
    "#### The average price per shoe in shop 78 is $25725. This is a very unusual amount and therefore it is considered an outlier and should not be considered in the AOV calculation. "
   ]
  },
  {
   "cell_type": "markdown",
   "id": "8aaf1d3a",
   "metadata": {},
   "source": [
    "### b) What metric would you report for this dataset?\n",
    "### c) What is its value?"
   ]
  },
  {
   "cell_type": "markdown",
   "id": "d20bb301",
   "metadata": {},
   "source": [
    "#### A better way to calculate this AOV is to take the total order amount and divided by the total items purchased (excluding all the values from shop 78). Start by filtering out all the data from shop 78."
   ]
  },
  {
   "cell_type": "code",
   "execution_count": 9,
   "id": "5cc0eb6b",
   "metadata": {},
   "outputs": [
    {
     "data": {
      "text/html": [
       "<div>\n",
       "<style scoped>\n",
       "    .dataframe tbody tr th:only-of-type {\n",
       "        vertical-align: middle;\n",
       "    }\n",
       "\n",
       "    .dataframe tbody tr th {\n",
       "        vertical-align: top;\n",
       "    }\n",
       "\n",
       "    .dataframe thead th {\n",
       "        text-align: right;\n",
       "    }\n",
       "</style>\n",
       "<table border=\"1\" class=\"dataframe\">\n",
       "  <thead>\n",
       "    <tr style=\"text-align: right;\">\n",
       "      <th></th>\n",
       "      <th>shop_id</th>\n",
       "      <th>order_amount</th>\n",
       "      <th>total_items</th>\n",
       "    </tr>\n",
       "    <tr>\n",
       "      <th>order_id</th>\n",
       "      <th></th>\n",
       "      <th></th>\n",
       "      <th></th>\n",
       "    </tr>\n",
       "  </thead>\n",
       "  <tbody>\n",
       "    <tr>\n",
       "      <th>1</th>\n",
       "      <td>53</td>\n",
       "      <td>224</td>\n",
       "      <td>2</td>\n",
       "    </tr>\n",
       "    <tr>\n",
       "      <th>2</th>\n",
       "      <td>92</td>\n",
       "      <td>90</td>\n",
       "      <td>1</td>\n",
       "    </tr>\n",
       "    <tr>\n",
       "      <th>3</th>\n",
       "      <td>44</td>\n",
       "      <td>144</td>\n",
       "      <td>1</td>\n",
       "    </tr>\n",
       "    <tr>\n",
       "      <th>4</th>\n",
       "      <td>18</td>\n",
       "      <td>156</td>\n",
       "      <td>1</td>\n",
       "    </tr>\n",
       "    <tr>\n",
       "      <th>5</th>\n",
       "      <td>18</td>\n",
       "      <td>156</td>\n",
       "      <td>1</td>\n",
       "    </tr>\n",
       "    <tr>\n",
       "      <th>...</th>\n",
       "      <td>...</td>\n",
       "      <td>...</td>\n",
       "      <td>...</td>\n",
       "    </tr>\n",
       "    <tr>\n",
       "      <th>4996</th>\n",
       "      <td>73</td>\n",
       "      <td>330</td>\n",
       "      <td>2</td>\n",
       "    </tr>\n",
       "    <tr>\n",
       "      <th>4997</th>\n",
       "      <td>48</td>\n",
       "      <td>234</td>\n",
       "      <td>2</td>\n",
       "    </tr>\n",
       "    <tr>\n",
       "      <th>4998</th>\n",
       "      <td>56</td>\n",
       "      <td>351</td>\n",
       "      <td>3</td>\n",
       "    </tr>\n",
       "    <tr>\n",
       "      <th>4999</th>\n",
       "      <td>60</td>\n",
       "      <td>354</td>\n",
       "      <td>2</td>\n",
       "    </tr>\n",
       "    <tr>\n",
       "      <th>5000</th>\n",
       "      <td>44</td>\n",
       "      <td>288</td>\n",
       "      <td>2</td>\n",
       "    </tr>\n",
       "  </tbody>\n",
       "</table>\n",
       "<p>4954 rows × 3 columns</p>\n",
       "</div>"
      ],
      "text/plain": [
       "          shop_id  order_amount  total_items\n",
       "order_id                                    \n",
       "1              53           224            2\n",
       "2              92            90            1\n",
       "3              44           144            1\n",
       "4              18           156            1\n",
       "5              18           156            1\n",
       "...           ...           ...          ...\n",
       "4996           73           330            2\n",
       "4997           48           234            2\n",
       "4998           56           351            3\n",
       "4999           60           354            2\n",
       "5000           44           288            2\n",
       "\n",
       "[4954 rows x 3 columns]"
      ]
     },
     "execution_count": 9,
     "metadata": {},
     "output_type": "execute_result"
    }
   ],
   "source": [
    "data_without_78 = data.loc[(data.shop_id != 78)]\n",
    "data_without_78"
   ]
  },
  {
   "cell_type": "markdown",
   "id": "081679e0",
   "metadata": {},
   "source": [
    "#### Using the dataset without shop 78 and find the total order amount and the total amount of items purchased"
   ]
  },
  {
   "cell_type": "code",
   "execution_count": 10,
   "id": "8490b6d6",
   "metadata": {},
   "outputs": [
    {
     "name": "stdout",
     "output_type": "stream",
     "text": [
      "The total order amount = $ 13461840\n",
      "The total items purchased =  43848\n"
     ]
    }
   ],
   "source": [
    "total_order_amount = data_without_78.order_amount.sum()\n",
    "total_order_amount\n",
    "total_items_puchased =  data_without_78.total_items.sum()\n",
    "total_items_puchased\n",
    "print(\"The total order amount = $\", total_order_amount)\n",
    "print(\"The total items purchased = \", total_items_puchased)"
   ]
  },
  {
   "cell_type": "markdown",
   "id": "80bd8f7e",
   "metadata": {},
   "source": [
    "#### Divide the total order amount by the total items purchased."
   ]
  },
  {
   "cell_type": "code",
   "execution_count": 11,
   "id": "82b23272",
   "metadata": {},
   "outputs": [
    {
     "name": "stdout",
     "output_type": "stream",
     "text": [
      "The average order value = $ 307.01149425287355\n"
     ]
    }
   ],
   "source": [
    "aov = total_order_amount/total_items_puchased\n",
    "print(\"The average order value = $\",aov)"
   ]
  },
  {
   "cell_type": "markdown",
   "id": "e58ce5bc",
   "metadata": {},
   "source": [
    "#### A better value for AOV would be $307.00"
   ]
  },
  {
   "cell_type": "code",
   "execution_count": null,
   "id": "d6fdd4aa",
   "metadata": {},
   "outputs": [],
   "source": []
  }
 ],
 "metadata": {
  "kernelspec": {
   "display_name": "Python 3 (ipykernel)",
   "language": "python",
   "name": "python3"
  },
  "language_info": {
   "codemirror_mode": {
    "name": "ipython",
    "version": 3
   },
   "file_extension": ".py",
   "mimetype": "text/x-python",
   "name": "python",
   "nbconvert_exporter": "python",
   "pygments_lexer": "ipython3",
   "version": "3.9.7"
  }
 },
 "nbformat": 4,
 "nbformat_minor": 5
}
